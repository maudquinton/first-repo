{
 "cells": [
  {
   "cell_type": "code",
   "execution_count": 1,
   "id": "5702fee9-f4e0-4004-a439-8738288e7c78",
   "metadata": {},
   "outputs": [],
   "source": [
    "import pandas as pd "
   ]
  },
  {
   "cell_type": "code",
   "execution_count": 2,
   "id": "efc8df10-f989-4535-be2c-396685d8e676",
   "metadata": {},
   "outputs": [],
   "source": [
    "data=pd.read_csv(\"train.csv\")\n",
    "test=pd.read_csv(\"test.csv\")"
   ]
  },
  {
   "cell_type": "code",
   "execution_count": 3,
   "id": "15196078-2c2a-4c78-81cd-fbb111d56660",
   "metadata": {},
   "outputs": [],
   "source": [
    "def clean(data):\n",
    "    data['text']=data['text'].str.lower()\n",
    "    data['text']=data['text'].str.replace('[^a-zA-Z ]','',regex=True)\n",
    "    return data"
   ]
  },
  {
   "cell_type": "code",
   "execution_count": 4,
   "id": "4063430e-ac3e-43e1-8d58-4dc873d41406",
   "metadata": {},
   "outputs": [],
   "source": [
    "data=clean(data)\n",
    "test=clean(test)"
   ]
  },
  {
   "cell_type": "code",
   "execution_count": 5,
   "id": "6484bb89-80b0-40c8-a586-4355a85899f0",
   "metadata": {},
   "outputs": [],
   "source": [
    "data['keyword']=data['keyword'].fillna('')\n",
    "data['location']=data['location'].fillna('')\n",
    "\n",
    "test['keyword']=test['keyword'].fillna('')\n",
    "test['location']=test['location'].fillna('')"
   ]
  },
  {
   "cell_type": "code",
   "execution_count": 6,
   "id": "ab7adbcc-10f6-4504-9cf2-32da60ed3188",
   "metadata": {},
   "outputs": [],
   "source": [
    "X=data[['text','location','keyword']]\n",
    "y=data['target']"
   ]
  },
  {
   "cell_type": "code",
   "execution_count": 7,
   "id": "ea5f57f8-4cc1-49c7-8c77-b9c103dbc376",
   "metadata": {},
   "outputs": [],
   "source": [
    "from sklearn.model_selection import train_test_split\n",
    "\n",
    "X_train,X_test,y_train,y_test=train_test_split(X,y,test_size=0.2,random_state=42)"
   ]
  },
  {
   "cell_type": "code",
   "execution_count": 8,
   "id": "df0bf648-7e5f-4dde-acde-edef7dae7e87",
   "metadata": {},
   "outputs": [],
   "source": [
    "from sklearn.preprocessing import OneHotEncoder\n",
    "from sklearn.feature_extraction.text import TfidfVectorizer"
   ]
  },
  {
   "cell_type": "code",
   "execution_count": null,
   "id": "5c4f35d7-77dc-40e7-8416-215e8b6c514b",
   "metadata": {},
   "outputs": [],
   "source": [
    "from sklearn.preprocessing import OneHotEncoder\n",
    "from sklearn.feature_extraction.text import TfidfVectorizer\n",
    "\n",
    "tfidf_text=TfidfVectorizer(ngram_range=(1,2),min_df=2,max_df=0.98)\n",
    "tfidf_loc=TfidfVectorizer(ngram_range=(1,2),min_df=20)\n",
    "ohe=OneHotEncoder(handle_unknown='ignore')"
   ]
  },
  {
   "cell_type": "code",
   "execution_count": null,
   "id": "7fb0467c-e9cd-4a26-997e-35b28459a8f7",
   "metadata": {},
   "outputs": [],
   "source": [
    "preproc=ColumnTransformer(\n",
    "    transformers=[\n",
    "        ('text',tfidf_text,'text'),\n",
    "        ('loc',tfidf_loc,'location'),\n",
    "        ('kw',ohe,['keyword']),\n",
    "    ]\n",
    "    remainder='drop',\n",
    "    sparse_threshold=1.0)"
   ]
  },
  {
   "cell_type": "code",
   "execution_count": null,
   "id": "105ea1e6-dfe7-420c-9f76-9535a0e2835f",
   "metadata": {},
   "outputs": [],
   "source": [
    "from scipy.sparse import hstack \n",
    "\n",
    "X_text_train=tfidf_text.fit_transform(X_train['text'].fillna(''))\n",
    "X_loc_train=tfidf_loc.fit_transform(X_train['location'].fillna(''))\n",
    "X_ohe_train=ohe.fit_transform(X_train[['keyword']])\n",
    "\n",
    "X_ctrain=hstack([X_text_train,X_ohe_train,X_loc_train],format='csr')"
   ]
  },
  {
   "cell_type": "code",
   "execution_count": null,
   "id": "3f0e92c2-0c7c-4c90-9280-6b1ac25032e4",
   "metadata": {},
   "outputs": [],
   "source": [
    "X_text_test=tfidf_text.transform(X_test['text'].fillna(''))\n",
    "X_loc_test=tfidf_loc.transform(X_test['location'].fillna(''))\n",
    "X_ohe_test=ohe.transform(X_test[['keyword']])\n",
    "\n",
    "X_ctest=hstack([X_text_test,X_ohe_test,X_loc_test],format='csr')"
   ]
  },
  {
   "cell_type": "code",
   "execution_count": null,
   "id": "f3ca1adc-d01c-4a0a-aa16-c26378a2f939",
   "metadata": {},
   "outputs": [],
   "source": [
    "from sklearn.naive_bayes import MultinomialNB\n",
    "from sklearn.metrics import f1_score\n",
    "\n",
    "nbmodel=MultinomialNB()\n",
    "nbmodel.fit(X_ctrain,y_train)\n",
    "predict=nbmodel.predict(X_ctest)\n",
    "f1_score(y_test,predict)"
   ]
  },
  {
   "cell_type": "code",
   "execution_count": 9,
   "id": "dfaa27be-7362-4286-b72d-943be9ae7f67",
   "metadata": {},
   "outputs": [],
   "source": [
    "from sklearn.compose import ColumnTransformer\n",
    "from sklearn.naive_bayes import MultinomialNB\n",
    "from sklearn.linear_model import LogisticRegression\n",
    "from sklearn.ensemble import VotingClassifier\n",
    "from sklearn.pipeline import Pipeline\n",
    "\n",
    "word_plus_meta=ColumnTransformer([\n",
    "    (\"word\",TfidfVectorizer(ngram_range=(1,2),min_df=2,sublinear_tf=True),\"text\"),\n",
    "    (\"loc\",OneHotEncoder(handle_unknown=\"ignore\",min_frequency=10),[\"location\"]),\n",
    "    (\"kw\",OneHotEncoder(handle_unknown=\"ignore\"),[\"keyword\"]),],\n",
    "    verbose_feature_names_out=False)\n",
    "\n",
    "nb_word=Pipeline([\n",
    "    (\"features\",word_plus_meta),\n",
    "    (\"clf\",MultinomialNB(alpha=0.6))\n",
    "])\n",
    "\n",
    "characters_only=ColumnTransformer([\n",
    "    (\"char\",TfidfVectorizer(analyzer=\"char_wb\",ngram_range=(3,5),min_df=3,max_features=60000),\"text\"),\n",
    "],verbose_feature_names_out=False)\n",
    "\n",
    "nb_characters=Pipeline([\n",
    "    (\"features\",characters_only),\n",
    "    (\"clf\",MultinomialNB(alpha=0.3))\n",
    "])\n",
    "\n",
    "word_characters=ColumnTransformer([\n",
    "    (\"word\",TfidfVectorizer(ngram_range=(1,2),min_df=2,sublinear_tf=True),\"text\"),\n",
    "    (\"char\",TfidfVectorizer(analyzer=\"char_wb\",ngram_range=(3,5),min_df=3,max_features=40000),\"text\"),\n",
    "],verbose_feature_names_out=False)\n",
    "\n",
    "logreg=Pipeline([\n",
    "    (\"features\",word_characters),\n",
    "    (\"clf\",LogisticRegression(max_iter=200,n_jobs=-1))\n",
    "])"
   ]
  },
  {
   "cell_type": "code",
   "execution_count": 10,
   "id": "f601aab6-8609-4fdf-99c7-a00f2f699aff",
   "metadata": {},
   "outputs": [],
   "source": [
    "ensemble=VotingClassifier(\n",
    "    estimators=[\n",
    "        (\"nb_word\",nb_word),\n",
    "        (\"nb_characters\",nb_characters),\n",
    "        (\"logreg\",logreg),\n",
    "    ],\n",
    "    voting=\"soft\",\n",
    "    weights=[1,1,1.2],\n",
    "    n_jobs=-1)"
   ]
  },
  {
   "cell_type": "code",
   "execution_count": 11,
   "id": "112fbccf-a994-46e8-8ca1-8963c01906f2",
   "metadata": {},
   "outputs": [
    {
     "data": {
      "text/plain": [
       "0.7732893652102226"
      ]
     },
     "execution_count": 11,
     "metadata": {},
     "output_type": "execute_result"
    }
   ],
   "source": [
    "from sklearn.metrics import f1_score\n",
    "\n",
    "ensemble.fit(X_train,y_train)\n",
    "predict=ensemble.predict(X_test)\n",
    "f1_score(y_test,predict)"
   ]
  },
  {
   "cell_type": "code",
   "execution_count": 12,
   "id": "8473fde8-c1f9-4aca-9fec-45907af5f20a",
   "metadata": {},
   "outputs": [
    {
     "name": "stdout",
     "output_type": "stream",
     "text": [
      "Best params: {'clf__alpha': np.float64(0.412037280884873), 'features__word__min_df': 3, 'features__word__ngram_range': (1, 1)}\n"
     ]
    }
   ],
   "source": [
    "from scipy.stats import uniform,randint\n",
    "from sklearn.model_selection import RandomizedSearchCV\n",
    "\n",
    "param_dist_words={\n",
    "    \"features__word__ngram_range\":[(1,1),(1,2)],\n",
    "    \"features__word__min_df\":randint(1,5),\n",
    "    \"clf__alpha\":uniform(0.1,2.0)}\n",
    "\n",
    "word_search=RandomizedSearchCV(\n",
    "    nb_word,\n",
    "    param_distributions=param_dist_words,\n",
    "    n_iter=15,\n",
    "    cv=5,\n",
    "    scoring=\"f1\",\n",
    "    n_jobs=-1,\n",
    "    random_state=42)\n",
    "\n",
    "word_search.fit(X_train,y_train)\n",
    "print(\"Best params:\",word_search.best_params_)"
   ]
  },
  {
   "cell_type": "code",
   "execution_count": 13,
   "id": "1b48bcde-fb86-4777-a713-2619e8598069",
   "metadata": {},
   "outputs": [
    {
     "name": "stdout",
     "output_type": "stream",
     "text": [
      "Best params: {'clf__alpha': np.float64(0.28399178050430396), 'features__char__max_features': 60000, 'features__char__min_df': 3, 'features__char__ngram_range': (4, 6)}\n"
     ]
    }
   ],
   "source": [
    "param_dist_characters={\n",
    "    \"features__char__ngram_range\":[(3,5),(4,6)],\n",
    "    \"features__char__min_df\":[1,2,3],\n",
    "    \"features__char__max_features\":[30000,40000,60000],\n",
    "    \"clf__alpha\":uniform(0.05,1.5)}\n",
    "\n",
    "characters_search=RandomizedSearchCV(\n",
    "    nb_characters,\n",
    "    param_distributions=param_dist_characters,\n",
    "    n_iter=15,\n",
    "    cv=5,\n",
    "    scoring=\"f1\",\n",
    "    n_jobs=-1,\n",
    "    random_state=42)\n",
    "\n",
    "characters_search.fit(X_train,y_train)\n",
    "print(\"Best params:\",characters_search.best_params_)"
   ]
  },
  {
   "cell_type": "code",
   "execution_count": 14,
   "id": "be0d1d70-1f57-4e5b-b06d-acb8b77a32bf",
   "metadata": {},
   "outputs": [
    {
     "name": "stdout",
     "output_type": "stream",
     "text": [
      "Best params: {'features__char__max_features': 40000, 'features__char__min_df': 3, 'features__char__ngram_range': (4, 6), 'features__word__max_df': 0.9, 'features__word__min_df': 4, 'features__word__ngram_range': (1, 1)}\n"
     ]
    }
   ],
   "source": [
    "param_dist_logreg={\n",
    "    \"features__word__ngram_range\":[(1,1),(1,2)],\n",
    "    \"features__word__min_df\":randint(1,6),\n",
    "    \"features__word__max_df\":[0.8,0.9,1.0],\n",
    "    \"features__char__ngram_range\":[(3,5),(4,6)],\n",
    "    \"features__char__min_df\":randint(2,6),\n",
    "    \"features__char__max_features\":[20000,40000]}\n",
    "\n",
    "logreg_search=RandomizedSearchCV(\n",
    "    logreg,\n",
    "    param_distributions=param_dist_logreg,\n",
    "    n_iter=15,\n",
    "    cv=4,\n",
    "    scoring=\"f1\",\n",
    "    n_jobs=-1,\n",
    "    random_state=42)\n",
    "\n",
    "logreg_search.fit(X_train,y_train)\n",
    "print(\"Best params:\",logreg_search.best_params_)"
   ]
  },
  {
   "cell_type": "code",
   "execution_count": 15,
   "id": "34e47160-e8e4-45ed-86ed-4401cc3cc3a8",
   "metadata": {},
   "outputs": [],
   "source": [
    "import numpy as np\n",
    "\n",
    "word_plus_meta2=ColumnTransformer([\n",
    "    (\"word\",TfidfVectorizer(ngram_range=(1,1),min_df=3,sublinear_tf=True),\"text\"),\n",
    "    (\"loc\",OneHotEncoder(handle_unknown=\"ignore\",min_frequency=10),[\"location\"]),\n",
    "    (\"kw\",OneHotEncoder(handle_unknown=\"ignore\"),[\"keyword\"]),],\n",
    "    verbose_feature_names_out=False)\n",
    "\n",
    "nb_word2=Pipeline([\n",
    "    (\"features\",word_plus_meta2),\n",
    "    (\"clf\",MultinomialNB(alpha=np.float64(0.412037280884873)))\n",
    "])\n",
    "\n",
    "characters_only2=ColumnTransformer([\n",
    "    (\"char\",TfidfVectorizer(analyzer=\"char_wb\",ngram_range=(4,6),min_df=3,max_features=60000),\"text\"),\n",
    "],verbose_feature_names_out=False)\n",
    "\n",
    "nb_characters2=Pipeline([\n",
    "    (\"features\",characters_only2),\n",
    "    (\"clf\",MultinomialNB(alpha=np.float64(0.28399178050430396)))\n",
    "])\n",
    "\n",
    "word_characters2=ColumnTransformer([\n",
    "    (\"word\",TfidfVectorizer(ngram_range=(1,1),min_df=4,max_df=0.9,sublinear_tf=True),\"text\"),\n",
    "    (\"char\",TfidfVectorizer(analyzer=\"char_wb\",ngram_range=(4,6),min_df=3,max_features=40000),\"text\"),\n",
    "],verbose_feature_names_out=False)\n",
    "\n",
    "logreg2=Pipeline([\n",
    "    (\"features\",word_characters2),\n",
    "    (\"clf\",LogisticRegression(max_iter=200,n_jobs=-1))\n",
    "])"
   ]
  },
  {
   "cell_type": "code",
   "execution_count": 16,
   "id": "00ba688d-9af0-45f8-a858-9cee7380be24",
   "metadata": {},
   "outputs": [],
   "source": [
    "ensemble2=VotingClassifier(\n",
    "    estimators=[\n",
    "        (\"nb_word\",nb_word2),\n",
    "        (\"nb_characters\",nb_characters2),\n",
    "        (\"logreg\",logreg2),\n",
    "    ],\n",
    "    voting=\"soft\",\n",
    "    weights=[1,1,1.2],\n",
    "    n_jobs=-1)"
   ]
  },
  {
   "cell_type": "code",
   "execution_count": 17,
   "id": "6006411b-8e05-4e3a-9b74-991611700a57",
   "metadata": {},
   "outputs": [
    {
     "data": {
      "text/plain": [
       "0.7691056910569106"
      ]
     },
     "execution_count": 17,
     "metadata": {},
     "output_type": "execute_result"
    }
   ],
   "source": [
    "ensemble2.fit(X_train,y_train)\n",
    "predict2=ensemble2.predict(X_test)\n",
    "f1_score(y_test,predict2)"
   ]
  },
  {
   "cell_type": "code",
   "execution_count": 18,
   "id": "ad984aa4-7aeb-40b8-a5d7-2cfd1c72a5fb",
   "metadata": {},
   "outputs": [
    {
     "data": {
      "text/plain": [
       "0.8135259356533159"
      ]
     },
     "execution_count": 18,
     "metadata": {},
     "output_type": "execute_result"
    }
   ],
   "source": [
    "from sklearn.metrics import accuracy_score\n",
    "accuracy_score(y_test,predict2)"
   ]
  },
  {
   "cell_type": "code",
   "execution_count": 19,
   "id": "443d255f-9539-4833-8cc1-26f5b6a1b4d2",
   "metadata": {},
   "outputs": [
    {
     "name": "stdout",
     "output_type": "stream",
     "text": [
      "Best weights: (1, 1, 3) F1: 0.7720297555777834\n"
     ]
    }
   ],
   "source": [
    "from sklearn.model_selection import GridSearchCV, StratifiedKFold\n",
    "\n",
    "possible_weights=[(1,1,1),\n",
    "                  (2,1,1),(1,2,1),(1,1,2),\n",
    "                  (3,1,1),(1,3,1),(1,1,3),\n",
    "                  (1,1,0),(1,0,1),(0,1,1),\n",
    "                  (1,0,0),(0,1,0),(0,0,1)]\n",
    "cv=StratifiedKFold(n_splits=5,shuffle=True,random_state=42)\n",
    "\n",
    "gs_w=GridSearchCV(\n",
    "    estimator=ensemble2,\n",
    "    param_grid={\"weights\":possible_weights},\n",
    "    scoring=\"f1\",\n",
    "    cv=cv,\n",
    "    n_jobs=-1,\n",
    "    verbose=0)\n",
    "\n",
    "gs_w.fit(X_train,y_train)\n",
    "print(\"Best weights:\",gs_w.best_params_[\"weights\"],\"F1:\",gs_w.best_score_)"
   ]
  },
  {
   "cell_type": "code",
   "execution_count": 24,
   "id": "71ab0822-e1d6-4861-9190-4539597a885a",
   "metadata": {},
   "outputs": [],
   "source": [
    "ensemblefinal=VotingClassifier(\n",
    "    estimators=[\n",
    "        (\"nb_word\",nb_word2),\n",
    "        (\"nb_characters\",nb_characters2),\n",
    "        (\"logreg\",logreg2),\n",
    "    ],\n",
    "    voting=\"soft\",\n",
    "    weights=[1,1,3],\n",
    "    n_jobs=-1)"
   ]
  },
  {
   "cell_type": "code",
   "execution_count": 25,
   "id": "a7d76116-5af4-4811-9c4f-28ce4f0786fa",
   "metadata": {},
   "outputs": [
    {
     "data": {
      "text/plain": [
       "0.7754442649434572"
      ]
     },
     "execution_count": 25,
     "metadata": {},
     "output_type": "execute_result"
    }
   ],
   "source": [
    "ensemblefinal.fit(X_train,y_train)\n",
    "predictfinal=ensemblefinal.predict(X_test)\n",
    "f1_score(y_test,predictfinal)"
   ]
  },
  {
   "cell_type": "code",
   "execution_count": 26,
   "id": "67730ec5-eec5-43a7-973a-5cede8d12ee0",
   "metadata": {},
   "outputs": [],
   "source": [
    "submission=ensemblefinal.predict(test)"
   ]
  },
  {
   "cell_type": "code",
   "execution_count": 27,
   "id": "d91deab7-1eff-40f3-b05a-4e091e0a9105",
   "metadata": {},
   "outputs": [],
   "source": [
    "df=pd.DataFrame({\n",
    "    'id':test['id'],\n",
    "    'target':submission})\n",
    "df.to_csv('submission.csv', index=False)"
   ]
  },
  {
   "cell_type": "code",
   "execution_count": 29,
   "id": "f9699288-2e52-41d3-8410-c2869e46f4fa",
   "metadata": {},
   "outputs": [
    {
     "name": "stdout",
     "output_type": "stream",
     "text": [
      "(3263, 2)\n"
     ]
    }
   ],
   "source": [
    "print(df.shape)"
   ]
  },
  {
   "cell_type": "code",
   "execution_count": null,
   "id": "a47a4402-6ac2-4dc9-ba63-362f585591cb",
   "metadata": {},
   "outputs": [],
   "source": []
  }
 ],
 "metadata": {
  "kernelspec": {
   "display_name": "Python [conda env:base] *",
   "language": "python",
   "name": "conda-base-py"
  },
  "language_info": {
   "codemirror_mode": {
    "name": "ipython",
    "version": 3
   },
   "file_extension": ".py",
   "mimetype": "text/x-python",
   "name": "python",
   "nbconvert_exporter": "python",
   "pygments_lexer": "ipython3",
   "version": "3.13.5"
  }
 },
 "nbformat": 4,
 "nbformat_minor": 5
}
